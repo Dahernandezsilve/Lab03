{
 "cells": [
  {
   "cell_type": "markdown",
   "metadata": {},
   "source": [
    "# Universidad del Valle de Guatemala\n",
    "## Facultad de Ingeniería\n",
    "### Departamento de Computación\n",
    "\n",
    "---\n",
    "\n",
    "# Laboratorio 3: Deep Learning\n",
    "\n",
    "**Integrantes:**\n",
    "- Diego Alexander Hernández Silvestre, 21270\n",
    "- Linda Inés Jiménez Vides, 21169\n",
    "\n",
    "**Curso:** Data Science  \n",
    "**Sección:** 10  \n",
    "\n",
    "---\n",
    "\n",
    "Guatemala, 08 de agosto de 2024\n"
   ]
  },
  {
   "cell_type": "markdown",
   "metadata": {},
   "source": [
    "<div style=\"text-align: center;\">\n",
    "    <h1>✍️ Discusión / Cálculos - [Deep Learning] ✍️</h1>\n",
    "</div>"
   ]
  },
  {
   "cell_type": "code",
   "execution_count": 1,
   "metadata": {},
   "outputs": [
    {
     "name": "stderr",
     "output_type": "stream",
     "text": [
      "c:\\Users\\lijv1.LINDA_HP\\Documents\\GitHub\\Lab03_Data-Science\\.venv\\Lib\\site-packages\\tqdm\\auto.py:21: TqdmWarning: IProgress not found. Please update jupyter and ipywidgets. See https://ipywidgets.readthedocs.io/en/stable/user_install.html\n",
      "  from .autonotebook import tqdm as notebook_tqdm\n",
      "Importing plotly failed. Interactive plots will not work.\n"
     ]
    },
    {
     "name": "stdout",
     "output_type": "stream",
     "text": [
      "Imported v0.1.905. Please call AutoViz in this sequence:\n",
      "    AV = AutoViz_Class()\n",
      "    %matplotlib inline\n",
      "    dfte = AV.AutoViz(filename, sep=',', depVar='', dfte=None, header=0, verbose=1, lowess=False,\n",
      "               chart_format='svg',max_rows_analyzed=150000,max_cols_analyzed=30, save_plot_dir=None)\n"
     ]
    }
   ],
   "source": [
    "import pandas as pd\n",
    "import numpy as np\n",
    "import matplotlib.pyplot as plt\n",
    "import seaborn as sns\n",
    "import sweetviz as sv\n",
    "import statsmodels.api as sm\n",
    "import matplotlib.pyplot as plt\n",
    "from autoviz.AutoViz_Class import AutoViz_Class\n",
    "from statsmodels.graphics.tsaplots import plot_acf, plot_pacf\n",
    "from statsmodels.tsa.stattools import adfuller\n",
    "from pmdarima import auto_arima\n",
    "from prophet import Prophet\n",
    "from sklearn.metrics import mean_squared_error\n",
    "from sklearn.linear_model import LinearRegression\n",
    "from statsmodels.tsa.arima.model import ARIMA\n",
    "%matplotlib inline"
   ]
  },
  {
   "cell_type": "code",
   "execution_count": 3,
   "metadata": {},
   "outputs": [
    {
     "name": "stdout",
     "output_type": "stream",
     "text": [
      "✅ Archivo cargado: Consumo/dataConsumo.csv\n",
      "✅ Archivo cargado: Importacion/dataImportacion.csv\n",
      "✅ Archivo cargado: PreciosPromedioNacionales/dataPrecios.csv\n"
     ]
    }
   ],
   "source": [
    "csvPath = 'Consumo/dataConsumo.csv'\n",
    "dataConsumo = pd.read_csv(csvPath)\n",
    "print(f\"✅ Archivo cargado: {csvPath}\")\n",
    "\n",
    "csvPath = 'Importacion/dataImportacion.csv'\n",
    "dataImportacion = pd.read_csv(csvPath)\n",
    "print(f\"✅ Archivo cargado: {csvPath}\")\n",
    "\n",
    "csvPath = 'PreciosPromedioNacionales/dataPrecios.csv'\n",
    "dataPrecios = pd.read_csv(csvPath)\n",
    "print(f\"✅ Archivo cargado: {csvPath}\")"
   ]
  },
  {
   "cell_type": "code",
   "execution_count": 4,
   "metadata": {},
   "outputs": [],
   "source": [
    "serieConsumoDiesel = dataConsumo[['Fecha', 'Diesel']]\n",
    "serieImportacionRegular = dataImportacion[['Fecha', 'Gasolina regular']]\n",
    "seriePreciosSuper = dataPrecios[['FECHA', 'Superior GTQ/GALON']]\n",
    "serieConsumoDiesel.set_index('Fecha', inplace=True)\n",
    "serieConsumoDiesel.sort_index(inplace=True)\n",
    "serieImportacionRegular.set_index('Fecha', inplace=True)\n",
    "serieImportacionRegular.sort_index(inplace=True)\n",
    "seriePreciosSuper.set_index('FECHA', inplace=True)\n",
    "seriePreciosSuper.sort_index(inplace=True)"
   ]
  },
  {
   "cell_type": "markdown",
   "metadata": {},
   "source": [
    "### 🧪 Division train y test"
   ]
  },
  {
   "cell_type": "code",
   "execution_count": 5,
   "metadata": {},
   "outputs": [],
   "source": [
    "# Dividir los datos en 70% entrenamiento y 30% prueba\n",
    "\n",
    "# Diesel\n",
    "n = len(serieConsumoDiesel)\n",
    "train_size = int(n * 0.7)\n",
    "train, test = serieConsumoDiesel[:train_size], serieConsumoDiesel[train_size:]\n",
    "\n",
    "# Gasolina Regular\n",
    "n = len(serieImportacionRegular)\n",
    "train_size = int(n * 0.7)\n",
    "train2, test2 = serieImportacionRegular[:train_size], serieImportacionRegular[train_size:]\n",
    "\n",
    "# Gasolina Superior\n",
    "n = len(seriePreciosSuper)\n",
    "train_size = int(n * 0.7)\n",
    "train3, test3 = seriePreciosSuper[:train_size], seriePreciosSuper[train_size:]"
   ]
  }
 ],
 "metadata": {
  "kernelspec": {
   "display_name": "venv",
   "language": "python",
   "name": "python3"
  },
  "language_info": {
   "codemirror_mode": {
    "name": "ipython",
    "version": 3
   },
   "file_extension": ".py",
   "mimetype": "text/x-python",
   "name": "python",
   "nbconvert_exporter": "python",
   "pygments_lexer": "ipython3",
   "version": "3.11.9"
  }
 },
 "nbformat": 4,
 "nbformat_minor": 2
}
